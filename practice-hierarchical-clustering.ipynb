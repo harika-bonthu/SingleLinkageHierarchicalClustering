{
 "cells": [
  {
   "cell_type": "markdown",
   "metadata": {},
   "source": [
    "# practice-hierarchical-clustering\n",
    "\n",
    "Use the \"Run\" button to execute the code."
   ]
  },
  {
   "cell_type": "code",
   "execution_count": 1,
   "metadata": {},
   "outputs": [],
   "source": [
    "!pip install jovian --upgrade --quiet"
   ]
  },
  {
   "cell_type": "code",
   "execution_count": 2,
   "metadata": {},
   "outputs": [],
   "source": [
    "import jovian"
   ]
  },
  {
   "cell_type": "code",
   "execution_count": 3,
   "metadata": {},
   "outputs": [],
   "source": [
    "# import random\n",
    "import numpy as np\n",
    "import pandas as pd\n",
    "import matplotlib.pyplot as plt\n",
    "%matplotlib inline\n",
    "import scipy.cluster.hierarchy as shc\n",
    "from scipy.spatial.distance import squareform, pdist"
   ]
  },
  {
   "cell_type": "code",
   "execution_count": 11,
   "metadata": {},
   "outputs": [
    {
     "data": {
      "text/html": [
       "<div>\n",
       "<style scoped>\n",
       "    .dataframe tbody tr th:only-of-type {\n",
       "        vertical-align: middle;\n",
       "    }\n",
       "\n",
       "    .dataframe tbody tr th {\n",
       "        vertical-align: top;\n",
       "    }\n",
       "\n",
       "    .dataframe thead th {\n",
       "        text-align: right;\n",
       "    }\n",
       "</style>\n",
       "<table border=\"1\" class=\"dataframe\">\n",
       "  <thead>\n",
       "    <tr style=\"text-align: right;\">\n",
       "      <th></th>\n",
       "      <th>a</th>\n",
       "      <th>b</th>\n",
       "    </tr>\n",
       "    <tr>\n",
       "      <th>Point</th>\n",
       "      <th></th>\n",
       "      <th></th>\n",
       "    </tr>\n",
       "  </thead>\n",
       "  <tbody>\n",
       "    <tr>\n",
       "      <th>P1</th>\n",
       "      <td>0.07</td>\n",
       "      <td>0.83</td>\n",
       "    </tr>\n",
       "    <tr>\n",
       "      <th>P2</th>\n",
       "      <td>0.85</td>\n",
       "      <td>0.14</td>\n",
       "    </tr>\n",
       "    <tr>\n",
       "      <th>P3</th>\n",
       "      <td>0.66</td>\n",
       "      <td>0.89</td>\n",
       "    </tr>\n",
       "    <tr>\n",
       "      <th>P4</th>\n",
       "      <td>0.49</td>\n",
       "      <td>0.64</td>\n",
       "    </tr>\n",
       "    <tr>\n",
       "      <th>P5</th>\n",
       "      <td>0.80</td>\n",
       "      <td>0.46</td>\n",
       "    </tr>\n",
       "  </tbody>\n",
       "</table>\n",
       "</div>"
      ],
      "text/plain": [
       "          a     b\n",
       "Point            \n",
       "P1     0.07  0.83\n",
       "P2     0.85  0.14\n",
       "P3     0.66  0.89\n",
       "P4     0.49  0.64\n",
       "P5     0.80  0.46"
      ]
     },
     "execution_count": 11,
     "metadata": {},
     "output_type": "execute_result"
    }
   ],
   "source": [
    "# a = np.random.random_sample(size = 5)\n",
    "# b = np.random.random_sample(size = 5)\n",
    "a = np.array([0.07, 0.85, 0.66, 0.49, 0.80])\n",
    "b = np.array([0.83, 0.14, 0.89, 0.64, 0.46])\n",
    "point = ['P1','P2','P3','P4','P5']\n",
    "data = pd.DataFrame({'Point':point, 'a':np.round(a,2), 'b':np.round(b,2)})\n",
    "data = data.set_index('Point')\n",
    "data"
   ]
  },
  {
   "cell_type": "code",
   "execution_count": 12,
   "metadata": {},
   "outputs": [
    {
     "data": {
      "image/png": "[encoded data removed]",
      "text/plain": [
       "<Figure size 576x360 with 1 Axes>"
      ]
     },
     "metadata": {
      "needs_background": "light"
     },
     "output_type": "display_data"
    }
   ],
   "source": [
    "# plt.style.use(['Solarize_Light2'])\n",
    "plt.figure(figsize=(8,5))\n",
    "plt.scatter(data['a'], data['b'], c='r', marker='*')\n",
    "plt.xlabel('Column a')\n",
    "plt.ylabel('column b')\n",
    "plt.title('Scatter Plot of x and y')\n",
    "\n",
    "for j in data.itertuples():\n",
    "    plt.annotate(j.Index, (j.a, j.b), fontsize=15)"
   ]
  },
  {
   "cell_type": "code",
   "execution_count": 13,
   "metadata": {},
   "outputs": [
    {
     "data": {
      "text/html": [
       "<div>\n",
       "<style scoped>\n",
       "    .dataframe tbody tr th:only-of-type {\n",
       "        vertical-align: middle;\n",
       "    }\n",
       "\n",
       "    .dataframe tbody tr th {\n",
       "        vertical-align: top;\n",
       "    }\n",
       "\n",
       "    .dataframe thead th {\n",
       "        text-align: right;\n",
       "    }\n",
       "</style>\n",
       "<table border=\"1\" class=\"dataframe\">\n",
       "  <thead>\n",
       "    <tr style=\"text-align: right;\">\n",
       "      <th></th>\n",
       "      <th>P1</th>\n",
       "      <th>P2</th>\n",
       "      <th>P3</th>\n",
       "      <th>P4</th>\n",
       "      <th>P5</th>\n",
       "    </tr>\n",
       "  </thead>\n",
       "  <tbody>\n",
       "    <tr>\n",
       "      <th>P1</th>\n",
       "      <td>0.000000</td>\n",
       "      <td>1.041393</td>\n",
       "      <td>0.593043</td>\n",
       "      <td>0.460977</td>\n",
       "      <td>0.818413</td>\n",
       "    </tr>\n",
       "    <tr>\n",
       "      <th>P2</th>\n",
       "      <td>1.041393</td>\n",
       "      <td>0.000000</td>\n",
       "      <td>0.773692</td>\n",
       "      <td>0.616117</td>\n",
       "      <td>0.323883</td>\n",
       "    </tr>\n",
       "    <tr>\n",
       "      <th>P3</th>\n",
       "      <td>0.593043</td>\n",
       "      <td>0.773692</td>\n",
       "      <td>0.000000</td>\n",
       "      <td>0.302324</td>\n",
       "      <td>0.452217</td>\n",
       "    </tr>\n",
       "    <tr>\n",
       "      <th>P4</th>\n",
       "      <td>0.460977</td>\n",
       "      <td>0.616117</td>\n",
       "      <td>0.302324</td>\n",
       "      <td>0.000000</td>\n",
       "      <td>0.358469</td>\n",
       "    </tr>\n",
       "    <tr>\n",
       "      <th>P5</th>\n",
       "      <td>0.818413</td>\n",
       "      <td>0.323883</td>\n",
       "      <td>0.452217</td>\n",
       "      <td>0.358469</td>\n",
       "      <td>0.000000</td>\n",
       "    </tr>\n",
       "  </tbody>\n",
       "</table>\n",
       "</div>"
      ],
      "text/plain": [
       "          P1        P2        P3        P4        P5\n",
       "P1  0.000000  1.041393  0.593043  0.460977  0.818413\n",
       "P2  1.041393  0.000000  0.773692  0.616117  0.323883\n",
       "P3  0.593043  0.773692  0.000000  0.302324  0.452217\n",
       "P4  0.460977  0.616117  0.302324  0.000000  0.358469\n",
       "P5  0.818413  0.323883  0.452217  0.358469  0.000000"
      ]
     },
     "execution_count": 13,
     "metadata": {},
     "output_type": "execute_result"
    }
   ],
   "source": [
    "dist = pd.DataFrame(squareform(pdist(data[['a', 'b']]), 'euclidean'), columns=data.index.values, index=data.index.values)\n",
    "dist"
   ]
  },
  {
   "cell_type": "code",
   "execution_count": 14,
   "metadata": {
    "scrolled": true
   },
   "outputs": [
    {
     "data": {
      "image/png": "[encoded data removed]",
      "text/plain": [
       "<Figure size 720x504 with 4 Axes>"
      ]
     },
     "metadata": {
      "needs_background": "light"
     },
     "output_type": "display_data"
    }
   ],
   "source": [
    "plt.figure(figsize=(10,7))  \n",
    "\n",
    "plt.subplot(2,2,1)\n",
    "plt.title(\"Dendrogram with Single inkage\")  \n",
    "dend = shc.dendrogram(shc.linkage(data[['a', 'b']], method='single'), labels=data.index)\n",
    "\n",
    "plt.subplot(2,2,2)\n",
    "plt.title(\"Dendrogram with Complete/Maximum linkage\")  \n",
    "dend = shc.dendrogram(shc.linkage(data[['a', 'b']], method='complete'), labels=data.index)\n",
    "\n",
    "plt.subplot(2,2,3)  \n",
    "plt.title(\"Dendrogram with Average linkage\")  \n",
    "dend = shc.dendrogram(shc.linkage(data[['a', 'b']], method='average'), labels=data.index)\n",
    "\n",
    "plt.subplot(2,2,4)  \n",
    "plt.title(\"Dendrogram with Centroid linkage\")  \n",
    "dend = shc.dendrogram(shc.linkage(data[['a', 'b']], method='centroid'), labels=data.index)"
   ]
  },
  {
   "cell_type": "code",
   "execution_count": 15,
   "metadata": {},
   "outputs": [],
   "source": [
    "# Z = shc.linkage(dist, 'single')\n",
    "# dn = shc.dendrogram(Z)"
   ]
  },
  {
   "cell_type": "code",
   "execution_count": null,
   "metadata": {},
   "outputs": [
    {
     "data": {
      "application/javascript": [
       "window.require && require([\"base/js/namespace\"],function(Jupyter){Jupyter.notebook.save_checkpoint()})"
      ],
      "text/plain": [
       "<IPython.core.display.Javascript object>"
      ]
     },
     "metadata": {},
     "output_type": "display_data"
    },
    {
     "name": "stdout",
     "output_type": "stream",
     "text": [
      "[jovian] Attempting to save notebook..\u001b[0m\n"
     ]
    }
   ],
   "source": [
    "# Execute this to save new versions of the notebook\n",
    "jovian.commit(project=\"practice-hierarchical-clustering\")"
   ]
  },
  {
   "cell_type": "code",
   "execution_count": null,
   "metadata": {},
   "outputs": [],
   "source": []
  }
 ],
 "metadata": {
  "language_info": {
   "codemirror_mode": {
    "name": "ipython",
    "version": 3
   },
   "file_extension": ".py",
   "mimetype": "text/x-python",
   "name": "python",
   "nbconvert_exporter": "python",
   "pygments_lexer": "ipython3",
   "version": "3.8.6"
  }
 },
 "nbformat": 4,
 "nbformat_minor": 2
}